{
  "nbformat": 4,
  "nbformat_minor": 2,
  "metadata": {
    "colab": {
      "name": "Welcome to Colaboratory",
      "provenance": [],
      "collapsed_sections": [],
      "toc_visible": true
    },
    "kernelspec": {
      "display_name": "Python 3",
      "name": "python3"
    }
  },
  "cells": [
    {
      "cell_type": "markdown",
      "source": [],
      "metadata": {
        "id": "LcTEzU3jJa97"
      }
    },
    {
      "cell_type": "code",
      "execution_count": 5,
      "source": [
        "Record={1001:{\"item\":\"SoftDrink\",\"quantity\":10,\"Cost\":25,\"In store\":24},\r\n",
        "1002:{\"item\":\"IceCream\",\"quantity\":50,\"Cost\":120,\"In store\":110},\r\n",
        "1003:{\"item\":\"Scarf\",\"quantity\":50,\"Cost\":105,\"In store\":100},\r\n",
        "1004:{\"item\":\"Ghee\",\"quantity\":10,\"Cost\":125,\"In store\":125},\r\n",
        "1005:{\"item\":\"MilkShake\",\"quantity\":10,\"Cost\":95,\"In store\":95},\r\n",
        "1006:{\"item\":\"Chocolate\",\"quantity\":11,\"Cost\":80,\"In store\":75},\r\n",
        "1007:{\"item\":\"Cookies\",\"quantity\":12,\"Cost\":20,\"In store\":18},\r\n",
        "1008:{\"item\":\"Biscuits\",\"quantity\":21,\"Cost\":20,\"In store\":15},\r\n",
        "1009:{\"item\":\"wafers\",\"quantity\":18,\"Cost\":25,\"In store\":17},\r\n",
        "1010:{\"item\":\"Dal\",\"quantity\":100,\"Cost\":65,\"In store\":65},\r\n",
        "1011:{\"item\":\"Shampoo\",\"quantity\":21,\"Cost\":55,\"In store\":55},\r\n",
        "1012:{\"item\":\"BoiledRice\",\"quantity\":31,\"Cost\":55,\"In store\":55},\r\n",
        "1013:{\"item\":\"WholeWheat\",\"quantity\":18,\"Cost\":45,\"In store\":44},\r\n",
        "1014:{\"item\":\"Maida\",\"quantity\":19,\"Cost\":28,\"In store\":20},\r\n",
        "1015:{\"item\":\"RiceFloor\",\"quantity\":51,\"Cost\":70,\"In store\":55},\r\n",
        "1016:{\"item\":\"WheatFloor\",\"quantity\":41,\"Cost\":46,\"In store\":35},\r\n",
        "1017:{\"item\":\"DishWash\",\"quantity\":18,\"Cost\":85,\"In store\":80},\r\n",
        "1018:{\"item\":\"BodyWash\",\"quantity\":15,\"Cost\":185,\"In store\":182},\r\n",
        "1019:{\"item\":\"FaceWash\",\"quantity\":14,\"Cost\":55,\"In store\":54},\r\n",
        "1020:{\"item\":\"noodels\",\"quantity\":17,\"Cost\":86,\"In store\":80},\r\n",
        "1021:{\"item\":\"chips\",\"quantity\":12,\"Cost\":10,\"In store\":10},\r\n",
        "1022:{\"item\":\"nachos\",\"quantity\":15,\"Cost\":55,\"In store\":45},\r\n",
        "1023:{\"item\":\"Sugar\",\"quantity\":81,\"Cost\":114,\"In store\":110},\r\n",
        "1024:{\"item\":\"Jaggery\",\"quantity\":15,\"Cost\":95,\"In store\":85},\r\n",
        "1025:{\"item\":\"ToothPaste\",\"quantity\":11,\"Cost\":105,\"In store\":85},\r\n",
        "1026:{\"item\":\"ToothBrush\",\"quantity\":10,\"Cost\":18,\"In store\":15},\r\n",
        "1027:{\"item\":\"CookingOil\",\"quantity\":21,\"Cost\":125,\"In store\":115},\r\n",
        "1028:{\"item\":\"GramFloor\",\"quantity\":15,\"Cost\":35,\"In store\":27},\r\n",
        "1029:{\"item\":\"paneer\",\"quantity\":18,\"Cost\":155,\"In store\":150},\r\n",
        "1030:{\"item\":\"cuminSeeds\",\"quantity\":51,\"Cost\":55,\"In store\":40}}\r\n",
        "\r\n",
        "import json\r\n",
        "\r\n",
        "js=json.dumps(Record)\r\n",
        "\r\n",
        "fd=open(\"Record.json\",'w')\r\n",
        "fd.write(js)\r\n",
        "fd.close()\r\n",
        "\r\n",
        "\r\n",
        "n=int(input(\"Enter the total number of product\"))\r\n",
        "total=0\r\n",
        "for i in range (n):\r\n",
        "  item_id=int(input(\"id\"))\r\n",
        "  item_quantity=int(input(\"Quantity\"))\r\n",
        "  print(Record[item_id])\r\n",
        "  t=int(item_quantity)*int(Record[item_id]['In store'])\r\n",
        "  total=total+t\r\n",
        "  Record[item_id][\"quantity\"]=int(Record[item_id][\"quantity\"])-item_quantity\r\n",
        "\r\n",
        "  \r\n",
        "\r\n",
        "print(\"Total billing amount= \",total)"
      ],
      "outputs": [
        {
          "output_type": "stream",
          "name": "stdout",
          "text": [
            "Enter the total number of product2\n",
            "id1018\n",
            "Quantity2\n",
            "{'item': 'BodyWash', 'quantity': 15, 'Cost': 185, 'In store': 182}\n",
            "id1019\n",
            "Quantity1\n",
            "{'item': 'FaceWash', 'quantity': 14, 'Cost': 55, 'In store': 54}\n",
            "Total billing amount=  418\n"
          ]
        }
      ],
      "metadata": {
        "id": "djAMYLE2Jng1",
        "outputId": "dbbaad50-50d4-4c2c-d3d7-da428b3d3d3f",
        "colab": {
          "base_uri": "https://localhost:8080/"
        }
      }
    }
  ]
}